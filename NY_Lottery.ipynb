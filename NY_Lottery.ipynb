{
  "nbformat": 4,
  "nbformat_minor": 0,
  "metadata": {
    "colab": {
      "name": "NY_Lottery.ipynb",
      "provenance": [],
      "collapsed_sections": [],
      "authorship_tag": "ABX9TyNXlbtVQmtttm9OmAIHkYvg"
    },
    "kernelspec": {
      "name": "python3",
      "display_name": "Python 3"
    }
  },
  "cells": [
    {
      "cell_type": "code",
      "metadata": {
        "id": "5bvbK0tlzgL5"
      },
      "source": [
        "import pandas as pd\r\n",
        "import ast"
      ],
      "execution_count": null,
      "outputs": []
    },
    {
      "cell_type": "code",
      "metadata": {
        "colab": {
          "base_uri": "https://localhost:8080/",
          "height": 287
        },
        "id": "LwpAmQamzis0",
        "outputId": "5ac85eab-4335-4a0b-cde9-11916c64dcd4"
      },
      "source": [
        "df = pd.read_csv(\"Lottery_Mega_Millions_Winning_Numbers__Beginning_2002.csv\")\r\n",
        "df.describe()"
      ],
      "execution_count": null,
      "outputs": [
        {
          "output_type": "execute_result",
          "data": {
            "text/html": [
              "<div>\n",
              "<style scoped>\n",
              "    .dataframe tbody tr th:only-of-type {\n",
              "        vertical-align: middle;\n",
              "    }\n",
              "\n",
              "    .dataframe tbody tr th {\n",
              "        vertical-align: top;\n",
              "    }\n",
              "\n",
              "    .dataframe thead th {\n",
              "        text-align: right;\n",
              "    }\n",
              "</style>\n",
              "<table border=\"1\" class=\"dataframe\">\n",
              "  <thead>\n",
              "    <tr style=\"text-align: right;\">\n",
              "      <th></th>\n",
              "      <th>Mega Ball</th>\n",
              "      <th>Multiplier</th>\n",
              "    </tr>\n",
              "  </thead>\n",
              "  <tbody>\n",
              "    <tr>\n",
              "      <th>count</th>\n",
              "      <td>1936.000000</td>\n",
              "      <td>1033.000000</td>\n",
              "    </tr>\n",
              "    <tr>\n",
              "      <th>mean</th>\n",
              "      <td>18.876550</td>\n",
              "      <td>3.423040</td>\n",
              "    </tr>\n",
              "    <tr>\n",
              "      <th>std</th>\n",
              "      <td>13.390565</td>\n",
              "      <td>1.017355</td>\n",
              "    </tr>\n",
              "    <tr>\n",
              "      <th>min</th>\n",
              "      <td>1.000000</td>\n",
              "      <td>2.000000</td>\n",
              "    </tr>\n",
              "    <tr>\n",
              "      <th>25%</th>\n",
              "      <td>8.000000</td>\n",
              "      <td>3.000000</td>\n",
              "    </tr>\n",
              "    <tr>\n",
              "      <th>50%</th>\n",
              "      <td>15.000000</td>\n",
              "      <td>3.000000</td>\n",
              "    </tr>\n",
              "    <tr>\n",
              "      <th>75%</th>\n",
              "      <td>29.000000</td>\n",
              "      <td>4.000000</td>\n",
              "    </tr>\n",
              "    <tr>\n",
              "      <th>max</th>\n",
              "      <td>52.000000</td>\n",
              "      <td>5.000000</td>\n",
              "    </tr>\n",
              "  </tbody>\n",
              "</table>\n",
              "</div>"
            ],
            "text/plain": [
              "         Mega Ball   Multiplier\n",
              "count  1936.000000  1033.000000\n",
              "mean     18.876550     3.423040\n",
              "std      13.390565     1.017355\n",
              "min       1.000000     2.000000\n",
              "25%       8.000000     3.000000\n",
              "50%      15.000000     3.000000\n",
              "75%      29.000000     4.000000\n",
              "max      52.000000     5.000000"
            ]
          },
          "metadata": {
            "tags": []
          },
          "execution_count": 3
        }
      ]
    },
    {
      "cell_type": "code",
      "metadata": {
        "colab": {
          "base_uri": "https://localhost:8080/",
          "height": 197
        },
        "id": "qIJMY2tb0Gvv",
        "outputId": "e19b5fa6-1f07-4b2c-c37d-c758fed6dd45"
      },
      "source": [
        "df.head()"
      ],
      "execution_count": null,
      "outputs": [
        {
          "output_type": "execute_result",
          "data": {
            "text/html": [
              "<div>\n",
              "<style scoped>\n",
              "    .dataframe tbody tr th:only-of-type {\n",
              "        vertical-align: middle;\n",
              "    }\n",
              "\n",
              "    .dataframe tbody tr th {\n",
              "        vertical-align: top;\n",
              "    }\n",
              "\n",
              "    .dataframe thead th {\n",
              "        text-align: right;\n",
              "    }\n",
              "</style>\n",
              "<table border=\"1\" class=\"dataframe\">\n",
              "  <thead>\n",
              "    <tr style=\"text-align: right;\">\n",
              "      <th></th>\n",
              "      <th>Draw Date</th>\n",
              "      <th>Winning Numbers</th>\n",
              "      <th>Mega Ball</th>\n",
              "      <th>Multiplier</th>\n",
              "    </tr>\n",
              "  </thead>\n",
              "  <tbody>\n",
              "    <tr>\n",
              "      <th>0</th>\n",
              "      <td>12/11/2020</td>\n",
              "      <td>19 31 37 55 67</td>\n",
              "      <td>25</td>\n",
              "      <td>4.0</td>\n",
              "    </tr>\n",
              "    <tr>\n",
              "      <th>1</th>\n",
              "      <td>12/8/2020</td>\n",
              "      <td>15 19 33 39 68</td>\n",
              "      <td>25</td>\n",
              "      <td>3.0</td>\n",
              "    </tr>\n",
              "    <tr>\n",
              "      <th>2</th>\n",
              "      <td>12/4/2020</td>\n",
              "      <td>03 19 24 44 50</td>\n",
              "      <td>8</td>\n",
              "      <td>3.0</td>\n",
              "    </tr>\n",
              "    <tr>\n",
              "      <th>3</th>\n",
              "      <td>12/1/2020</td>\n",
              "      <td>07 33 53 61 65</td>\n",
              "      <td>14</td>\n",
              "      <td>2.0</td>\n",
              "    </tr>\n",
              "    <tr>\n",
              "      <th>4</th>\n",
              "      <td>11/27/2020</td>\n",
              "      <td>04 10 27 35 58</td>\n",
              "      <td>10</td>\n",
              "      <td>2.0</td>\n",
              "    </tr>\n",
              "  </tbody>\n",
              "</table>\n",
              "</div>"
            ],
            "text/plain": [
              "    Draw Date Winning Numbers  Mega Ball  Multiplier\n",
              "0  12/11/2020  19 31 37 55 67         25         4.0\n",
              "1   12/8/2020  15 19 33 39 68         25         3.0\n",
              "2   12/4/2020  03 19 24 44 50          8         3.0\n",
              "3   12/1/2020  07 33 53 61 65         14         2.0\n",
              "4  11/27/2020  04 10 27 35 58         10         2.0"
            ]
          },
          "metadata": {
            "tags": []
          },
          "execution_count": 4
        }
      ]
    },
    {
      "cell_type": "code",
      "metadata": {
        "id": "ADd9gvND3O6G"
      },
      "source": [
        "from matplotlib import rcParams\n",
        "rcParams.update({'figure.autolayout': True})"
      ],
      "execution_count": 91,
      "outputs": []
    },
    {
      "cell_type": "code",
      "metadata": {
        "id": "_HHE3XbK2t6p"
      },
      "source": [
        "df[\"Draw Date\"]= pd.to_datetime(df[\"Draw Date\"]) "
      ],
      "execution_count": null,
      "outputs": []
    },
    {
      "cell_type": "code",
      "metadata": {
        "colab": {
          "base_uri": "https://localhost:8080/"
        },
        "id": "val5_Q2f24xn",
        "outputId": "8c83b601-bdcd-4c96-cb92-219adc264971"
      },
      "source": [
        "df.info()"
      ],
      "execution_count": null,
      "outputs": [
        {
          "output_type": "stream",
          "text": [
            "<class 'pandas.core.frame.DataFrame'>\n",
            "RangeIndex: 1936 entries, 0 to 1935\n",
            "Data columns (total 4 columns):\n",
            " #   Column           Non-Null Count  Dtype         \n",
            "---  ------           --------------  -----         \n",
            " 0   Draw Date        1936 non-null   datetime64[ns]\n",
            " 1   Winning Numbers  1936 non-null   object        \n",
            " 2   Mega Ball        1936 non-null   int64         \n",
            " 3   Multiplier       1033 non-null   float64       \n",
            "dtypes: datetime64[ns](1), float64(1), int64(1), object(1)\n",
            "memory usage: 60.6+ KB\n"
          ],
          "name": "stdout"
        }
      ]
    },
    {
      "cell_type": "code",
      "metadata": {
        "id": "8hyupqJ_3G6Q"
      },
      "source": [
        "df = df.rename({'Draw Date': 'Draw_Date', 'Winning Numbers': 'Winning_Numbers','Mega Ball': 'Mega_Ball'}, axis=1)"
      ],
      "execution_count": null,
      "outputs": []
    },
    {
      "cell_type": "code",
      "metadata": {
        "id": "c1i9PB_l3hew"
      },
      "source": [
        "df['Winning_Numbers'] = [x.strip(' ').split(',') for x in df['Winning_Numbers']]"
      ],
      "execution_count": null,
      "outputs": []
    },
    {
      "cell_type": "code",
      "metadata": {
        "id": "RRdgMMaK5zvI"
      },
      "source": [
        "df['Winning_Numbers'] = df['Winning_Numbers'].apply(lambda x: [i.split(' ') for i in x])\r\n"
      ],
      "execution_count": null,
      "outputs": []
    },
    {
      "cell_type": "code",
      "metadata": {
        "colab": {
          "base_uri": "https://localhost:8080/",
          "height": 406
        },
        "id": "J5x9Ktmw8GiM",
        "outputId": "648a6f25-aa98-43d0-db91-db40207277e2"
      },
      "source": [
        "df"
      ],
      "execution_count": null,
      "outputs": [
        {
          "output_type": "execute_result",
          "data": {
            "text/html": [
              "<div>\n",
              "<style scoped>\n",
              "    .dataframe tbody tr th:only-of-type {\n",
              "        vertical-align: middle;\n",
              "    }\n",
              "\n",
              "    .dataframe tbody tr th {\n",
              "        vertical-align: top;\n",
              "    }\n",
              "\n",
              "    .dataframe thead th {\n",
              "        text-align: right;\n",
              "    }\n",
              "</style>\n",
              "<table border=\"1\" class=\"dataframe\">\n",
              "  <thead>\n",
              "    <tr style=\"text-align: right;\">\n",
              "      <th></th>\n",
              "      <th>Draw_Date</th>\n",
              "      <th>Winning_Numbers</th>\n",
              "      <th>Mega_Ball</th>\n",
              "      <th>Multiplier</th>\n",
              "    </tr>\n",
              "  </thead>\n",
              "  <tbody>\n",
              "    <tr>\n",
              "      <th>0</th>\n",
              "      <td>2020-12-11</td>\n",
              "      <td>[[19, 31, 37, 55, 67]]</td>\n",
              "      <td>25</td>\n",
              "      <td>4.0</td>\n",
              "    </tr>\n",
              "    <tr>\n",
              "      <th>1</th>\n",
              "      <td>2020-12-08</td>\n",
              "      <td>[[15, 19, 33, 39, 68]]</td>\n",
              "      <td>25</td>\n",
              "      <td>3.0</td>\n",
              "    </tr>\n",
              "    <tr>\n",
              "      <th>2</th>\n",
              "      <td>2020-12-04</td>\n",
              "      <td>[[03, 19, 24, 44, 50]]</td>\n",
              "      <td>8</td>\n",
              "      <td>3.0</td>\n",
              "    </tr>\n",
              "    <tr>\n",
              "      <th>3</th>\n",
              "      <td>2020-12-01</td>\n",
              "      <td>[[07, 33, 53, 61, 65]]</td>\n",
              "      <td>14</td>\n",
              "      <td>2.0</td>\n",
              "    </tr>\n",
              "    <tr>\n",
              "      <th>4</th>\n",
              "      <td>2020-11-27</td>\n",
              "      <td>[[04, 10, 27, 35, 58]]</td>\n",
              "      <td>10</td>\n",
              "      <td>2.0</td>\n",
              "    </tr>\n",
              "    <tr>\n",
              "      <th>...</th>\n",
              "      <td>...</td>\n",
              "      <td>...</td>\n",
              "      <td>...</td>\n",
              "      <td>...</td>\n",
              "    </tr>\n",
              "    <tr>\n",
              "      <th>1931</th>\n",
              "      <td>2002-05-31</td>\n",
              "      <td>[[12, 28, 45, 46, 52]]</td>\n",
              "      <td>47</td>\n",
              "      <td>NaN</td>\n",
              "    </tr>\n",
              "    <tr>\n",
              "      <th>1932</th>\n",
              "      <td>2002-05-28</td>\n",
              "      <td>[[06, 21, 22, 29, 32]]</td>\n",
              "      <td>24</td>\n",
              "      <td>NaN</td>\n",
              "    </tr>\n",
              "    <tr>\n",
              "      <th>1933</th>\n",
              "      <td>2002-05-24</td>\n",
              "      <td>[[02, 04, 32, 44, 52]]</td>\n",
              "      <td>36</td>\n",
              "      <td>NaN</td>\n",
              "    </tr>\n",
              "    <tr>\n",
              "      <th>1934</th>\n",
              "      <td>2002-05-21</td>\n",
              "      <td>[[04, 28, 39, 41, 44]]</td>\n",
              "      <td>9</td>\n",
              "      <td>NaN</td>\n",
              "    </tr>\n",
              "    <tr>\n",
              "      <th>1935</th>\n",
              "      <td>2002-05-17</td>\n",
              "      <td>[[15, 18, 25, 33, 47]]</td>\n",
              "      <td>30</td>\n",
              "      <td>NaN</td>\n",
              "    </tr>\n",
              "  </tbody>\n",
              "</table>\n",
              "<p>1936 rows × 4 columns</p>\n",
              "</div>"
            ],
            "text/plain": [
              "      Draw_Date         Winning_Numbers  Mega_Ball  Multiplier\n",
              "0    2020-12-11  [[19, 31, 37, 55, 67]]         25         4.0\n",
              "1    2020-12-08  [[15, 19, 33, 39, 68]]         25         3.0\n",
              "2    2020-12-04  [[03, 19, 24, 44, 50]]          8         3.0\n",
              "3    2020-12-01  [[07, 33, 53, 61, 65]]         14         2.0\n",
              "4    2020-11-27  [[04, 10, 27, 35, 58]]         10         2.0\n",
              "...         ...                     ...        ...         ...\n",
              "1931 2002-05-31  [[12, 28, 45, 46, 52]]         47         NaN\n",
              "1932 2002-05-28  [[06, 21, 22, 29, 32]]         24         NaN\n",
              "1933 2002-05-24  [[02, 04, 32, 44, 52]]         36         NaN\n",
              "1934 2002-05-21  [[04, 28, 39, 41, 44]]          9         NaN\n",
              "1935 2002-05-17  [[15, 18, 25, 33, 47]]         30         NaN\n",
              "\n",
              "[1936 rows x 4 columns]"
            ]
          },
          "metadata": {
            "tags": []
          },
          "execution_count": 11
        }
      ]
    },
    {
      "cell_type": "code",
      "metadata": {
        "id": "EpOQ9GrV8IMv"
      },
      "source": [
        "df['Winning_Numbers'] = df['Winning_Numbers'].apply(lambda x: sum(x, []))\r\n"
      ],
      "execution_count": null,
      "outputs": []
    },
    {
      "cell_type": "code",
      "metadata": {
        "colab": {
          "base_uri": "https://localhost:8080/",
          "height": 406
        },
        "id": "El1jHjGu8hTH",
        "outputId": "7a803666-8f8d-4f91-8241-46c1385272f7"
      },
      "source": [
        "df"
      ],
      "execution_count": null,
      "outputs": [
        {
          "output_type": "execute_result",
          "data": {
            "text/html": [
              "<div>\n",
              "<style scoped>\n",
              "    .dataframe tbody tr th:only-of-type {\n",
              "        vertical-align: middle;\n",
              "    }\n",
              "\n",
              "    .dataframe tbody tr th {\n",
              "        vertical-align: top;\n",
              "    }\n",
              "\n",
              "    .dataframe thead th {\n",
              "        text-align: right;\n",
              "    }\n",
              "</style>\n",
              "<table border=\"1\" class=\"dataframe\">\n",
              "  <thead>\n",
              "    <tr style=\"text-align: right;\">\n",
              "      <th></th>\n",
              "      <th>Draw_Date</th>\n",
              "      <th>Winning_Numbers</th>\n",
              "      <th>Mega_Ball</th>\n",
              "      <th>Multiplier</th>\n",
              "    </tr>\n",
              "  </thead>\n",
              "  <tbody>\n",
              "    <tr>\n",
              "      <th>0</th>\n",
              "      <td>2020-12-11</td>\n",
              "      <td>[19, 31, 37, 55, 67]</td>\n",
              "      <td>25</td>\n",
              "      <td>4.0</td>\n",
              "    </tr>\n",
              "    <tr>\n",
              "      <th>1</th>\n",
              "      <td>2020-12-08</td>\n",
              "      <td>[15, 19, 33, 39, 68]</td>\n",
              "      <td>25</td>\n",
              "      <td>3.0</td>\n",
              "    </tr>\n",
              "    <tr>\n",
              "      <th>2</th>\n",
              "      <td>2020-12-04</td>\n",
              "      <td>[03, 19, 24, 44, 50]</td>\n",
              "      <td>8</td>\n",
              "      <td>3.0</td>\n",
              "    </tr>\n",
              "    <tr>\n",
              "      <th>3</th>\n",
              "      <td>2020-12-01</td>\n",
              "      <td>[07, 33, 53, 61, 65]</td>\n",
              "      <td>14</td>\n",
              "      <td>2.0</td>\n",
              "    </tr>\n",
              "    <tr>\n",
              "      <th>4</th>\n",
              "      <td>2020-11-27</td>\n",
              "      <td>[04, 10, 27, 35, 58]</td>\n",
              "      <td>10</td>\n",
              "      <td>2.0</td>\n",
              "    </tr>\n",
              "    <tr>\n",
              "      <th>...</th>\n",
              "      <td>...</td>\n",
              "      <td>...</td>\n",
              "      <td>...</td>\n",
              "      <td>...</td>\n",
              "    </tr>\n",
              "    <tr>\n",
              "      <th>1931</th>\n",
              "      <td>2002-05-31</td>\n",
              "      <td>[12, 28, 45, 46, 52]</td>\n",
              "      <td>47</td>\n",
              "      <td>NaN</td>\n",
              "    </tr>\n",
              "    <tr>\n",
              "      <th>1932</th>\n",
              "      <td>2002-05-28</td>\n",
              "      <td>[06, 21, 22, 29, 32]</td>\n",
              "      <td>24</td>\n",
              "      <td>NaN</td>\n",
              "    </tr>\n",
              "    <tr>\n",
              "      <th>1933</th>\n",
              "      <td>2002-05-24</td>\n",
              "      <td>[02, 04, 32, 44, 52]</td>\n",
              "      <td>36</td>\n",
              "      <td>NaN</td>\n",
              "    </tr>\n",
              "    <tr>\n",
              "      <th>1934</th>\n",
              "      <td>2002-05-21</td>\n",
              "      <td>[04, 28, 39, 41, 44]</td>\n",
              "      <td>9</td>\n",
              "      <td>NaN</td>\n",
              "    </tr>\n",
              "    <tr>\n",
              "      <th>1935</th>\n",
              "      <td>2002-05-17</td>\n",
              "      <td>[15, 18, 25, 33, 47]</td>\n",
              "      <td>30</td>\n",
              "      <td>NaN</td>\n",
              "    </tr>\n",
              "  </tbody>\n",
              "</table>\n",
              "<p>1936 rows × 4 columns</p>\n",
              "</div>"
            ],
            "text/plain": [
              "      Draw_Date       Winning_Numbers  Mega_Ball  Multiplier\n",
              "0    2020-12-11  [19, 31, 37, 55, 67]         25         4.0\n",
              "1    2020-12-08  [15, 19, 33, 39, 68]         25         3.0\n",
              "2    2020-12-04  [03, 19, 24, 44, 50]          8         3.0\n",
              "3    2020-12-01  [07, 33, 53, 61, 65]         14         2.0\n",
              "4    2020-11-27  [04, 10, 27, 35, 58]         10         2.0\n",
              "...         ...                   ...        ...         ...\n",
              "1931 2002-05-31  [12, 28, 45, 46, 52]         47         NaN\n",
              "1932 2002-05-28  [06, 21, 22, 29, 32]         24         NaN\n",
              "1933 2002-05-24  [02, 04, 32, 44, 52]         36         NaN\n",
              "1934 2002-05-21  [04, 28, 39, 41, 44]          9         NaN\n",
              "1935 2002-05-17  [15, 18, 25, 33, 47]         30         NaN\n",
              "\n",
              "[1936 rows x 4 columns]"
            ]
          },
          "metadata": {
            "tags": []
          },
          "execution_count": 13
        }
      ]
    },
    {
      "cell_type": "code",
      "metadata": {
        "id": "ZLEsTrKG8ivv"
      },
      "source": [
        "#df = pd.DataFrame(df[\"Winning_Numbers\"].to_list(), columns=['Winning_Number_1', 'Winning_Number_2','Winning_Number_3','Winning_Number_4','Winning_Number_5'])\r\n",
        "df[['Winning_Number_1', 'Winning_Number_2','Winning_Number_3','Winning_Number_4','Winning_Number_5']] = pd.DataFrame(df.Winning_Numbers.tolist(), index= df.index).astype(str).astype(int)"
      ],
      "execution_count": null,
      "outputs": []
    },
    {
      "cell_type": "code",
      "metadata": {
        "colab": {
          "base_uri": "https://localhost:8080/",
          "height": 406
        },
        "id": "-y-_MRZV8pd3",
        "outputId": "2e44deff-b881-4bc7-f124-96bf7e6e26d9"
      },
      "source": [
        "df"
      ],
      "execution_count": null,
      "outputs": [
        {
          "output_type": "execute_result",
          "data": {
            "text/html": [
              "<div>\n",
              "<style scoped>\n",
              "    .dataframe tbody tr th:only-of-type {\n",
              "        vertical-align: middle;\n",
              "    }\n",
              "\n",
              "    .dataframe tbody tr th {\n",
              "        vertical-align: top;\n",
              "    }\n",
              "\n",
              "    .dataframe thead th {\n",
              "        text-align: right;\n",
              "    }\n",
              "</style>\n",
              "<table border=\"1\" class=\"dataframe\">\n",
              "  <thead>\n",
              "    <tr style=\"text-align: right;\">\n",
              "      <th></th>\n",
              "      <th>Draw_Date</th>\n",
              "      <th>Winning_Numbers</th>\n",
              "      <th>Mega_Ball</th>\n",
              "      <th>Multiplier</th>\n",
              "      <th>Winning_Number_1</th>\n",
              "      <th>Winning_Number_2</th>\n",
              "      <th>Winning_Number_3</th>\n",
              "      <th>Winning_Number_4</th>\n",
              "      <th>Winning_Number_5</th>\n",
              "    </tr>\n",
              "  </thead>\n",
              "  <tbody>\n",
              "    <tr>\n",
              "      <th>0</th>\n",
              "      <td>2020-12-11</td>\n",
              "      <td>[19, 31, 37, 55, 67]</td>\n",
              "      <td>25</td>\n",
              "      <td>4.0</td>\n",
              "      <td>19</td>\n",
              "      <td>31</td>\n",
              "      <td>37</td>\n",
              "      <td>55</td>\n",
              "      <td>67</td>\n",
              "    </tr>\n",
              "    <tr>\n",
              "      <th>1</th>\n",
              "      <td>2020-12-08</td>\n",
              "      <td>[15, 19, 33, 39, 68]</td>\n",
              "      <td>25</td>\n",
              "      <td>3.0</td>\n",
              "      <td>15</td>\n",
              "      <td>19</td>\n",
              "      <td>33</td>\n",
              "      <td>39</td>\n",
              "      <td>68</td>\n",
              "    </tr>\n",
              "    <tr>\n",
              "      <th>2</th>\n",
              "      <td>2020-12-04</td>\n",
              "      <td>[03, 19, 24, 44, 50]</td>\n",
              "      <td>8</td>\n",
              "      <td>3.0</td>\n",
              "      <td>3</td>\n",
              "      <td>19</td>\n",
              "      <td>24</td>\n",
              "      <td>44</td>\n",
              "      <td>50</td>\n",
              "    </tr>\n",
              "    <tr>\n",
              "      <th>3</th>\n",
              "      <td>2020-12-01</td>\n",
              "      <td>[07, 33, 53, 61, 65]</td>\n",
              "      <td>14</td>\n",
              "      <td>2.0</td>\n",
              "      <td>7</td>\n",
              "      <td>33</td>\n",
              "      <td>53</td>\n",
              "      <td>61</td>\n",
              "      <td>65</td>\n",
              "    </tr>\n",
              "    <tr>\n",
              "      <th>4</th>\n",
              "      <td>2020-11-27</td>\n",
              "      <td>[04, 10, 27, 35, 58]</td>\n",
              "      <td>10</td>\n",
              "      <td>2.0</td>\n",
              "      <td>4</td>\n",
              "      <td>10</td>\n",
              "      <td>27</td>\n",
              "      <td>35</td>\n",
              "      <td>58</td>\n",
              "    </tr>\n",
              "    <tr>\n",
              "      <th>...</th>\n",
              "      <td>...</td>\n",
              "      <td>...</td>\n",
              "      <td>...</td>\n",
              "      <td>...</td>\n",
              "      <td>...</td>\n",
              "      <td>...</td>\n",
              "      <td>...</td>\n",
              "      <td>...</td>\n",
              "      <td>...</td>\n",
              "    </tr>\n",
              "    <tr>\n",
              "      <th>1931</th>\n",
              "      <td>2002-05-31</td>\n",
              "      <td>[12, 28, 45, 46, 52]</td>\n",
              "      <td>47</td>\n",
              "      <td>NaN</td>\n",
              "      <td>12</td>\n",
              "      <td>28</td>\n",
              "      <td>45</td>\n",
              "      <td>46</td>\n",
              "      <td>52</td>\n",
              "    </tr>\n",
              "    <tr>\n",
              "      <th>1932</th>\n",
              "      <td>2002-05-28</td>\n",
              "      <td>[06, 21, 22, 29, 32]</td>\n",
              "      <td>24</td>\n",
              "      <td>NaN</td>\n",
              "      <td>6</td>\n",
              "      <td>21</td>\n",
              "      <td>22</td>\n",
              "      <td>29</td>\n",
              "      <td>32</td>\n",
              "    </tr>\n",
              "    <tr>\n",
              "      <th>1933</th>\n",
              "      <td>2002-05-24</td>\n",
              "      <td>[02, 04, 32, 44, 52]</td>\n",
              "      <td>36</td>\n",
              "      <td>NaN</td>\n",
              "      <td>2</td>\n",
              "      <td>4</td>\n",
              "      <td>32</td>\n",
              "      <td>44</td>\n",
              "      <td>52</td>\n",
              "    </tr>\n",
              "    <tr>\n",
              "      <th>1934</th>\n",
              "      <td>2002-05-21</td>\n",
              "      <td>[04, 28, 39, 41, 44]</td>\n",
              "      <td>9</td>\n",
              "      <td>NaN</td>\n",
              "      <td>4</td>\n",
              "      <td>28</td>\n",
              "      <td>39</td>\n",
              "      <td>41</td>\n",
              "      <td>44</td>\n",
              "    </tr>\n",
              "    <tr>\n",
              "      <th>1935</th>\n",
              "      <td>2002-05-17</td>\n",
              "      <td>[15, 18, 25, 33, 47]</td>\n",
              "      <td>30</td>\n",
              "      <td>NaN</td>\n",
              "      <td>15</td>\n",
              "      <td>18</td>\n",
              "      <td>25</td>\n",
              "      <td>33</td>\n",
              "      <td>47</td>\n",
              "    </tr>\n",
              "  </tbody>\n",
              "</table>\n",
              "<p>1936 rows × 9 columns</p>\n",
              "</div>"
            ],
            "text/plain": [
              "      Draw_Date       Winning_Numbers  ...  Winning_Number_4  Winning_Number_5\n",
              "0    2020-12-11  [19, 31, 37, 55, 67]  ...                55                67\n",
              "1    2020-12-08  [15, 19, 33, 39, 68]  ...                39                68\n",
              "2    2020-12-04  [03, 19, 24, 44, 50]  ...                44                50\n",
              "3    2020-12-01  [07, 33, 53, 61, 65]  ...                61                65\n",
              "4    2020-11-27  [04, 10, 27, 35, 58]  ...                35                58\n",
              "...         ...                   ...  ...               ...               ...\n",
              "1931 2002-05-31  [12, 28, 45, 46, 52]  ...                46                52\n",
              "1932 2002-05-28  [06, 21, 22, 29, 32]  ...                29                32\n",
              "1933 2002-05-24  [02, 04, 32, 44, 52]  ...                44                52\n",
              "1934 2002-05-21  [04, 28, 39, 41, 44]  ...                41                44\n",
              "1935 2002-05-17  [15, 18, 25, 33, 47]  ...                33                47\n",
              "\n",
              "[1936 rows x 9 columns]"
            ]
          },
          "metadata": {
            "tags": []
          },
          "execution_count": 15
        }
      ]
    },
    {
      "cell_type": "code",
      "metadata": {
        "id": "EjuJPgs8K7P9"
      },
      "source": [
        "del df['Winning_Numbers']"
      ],
      "execution_count": null,
      "outputs": []
    },
    {
      "cell_type": "code",
      "metadata": {
        "colab": {
          "base_uri": "https://localhost:8080/",
          "height": 406
        },
        "id": "Gf-r9Ap5LiP5",
        "outputId": "413676bb-1675-434a-c49a-834810d5a8c4"
      },
      "source": [
        "df"
      ],
      "execution_count": null,
      "outputs": [
        {
          "output_type": "execute_result",
          "data": {
            "text/html": [
              "<div>\n",
              "<style scoped>\n",
              "    .dataframe tbody tr th:only-of-type {\n",
              "        vertical-align: middle;\n",
              "    }\n",
              "\n",
              "    .dataframe tbody tr th {\n",
              "        vertical-align: top;\n",
              "    }\n",
              "\n",
              "    .dataframe thead th {\n",
              "        text-align: right;\n",
              "    }\n",
              "</style>\n",
              "<table border=\"1\" class=\"dataframe\">\n",
              "  <thead>\n",
              "    <tr style=\"text-align: right;\">\n",
              "      <th></th>\n",
              "      <th>Draw_Date</th>\n",
              "      <th>Mega_Ball</th>\n",
              "      <th>Multiplier</th>\n",
              "      <th>Winning_Number_1</th>\n",
              "      <th>Winning_Number_2</th>\n",
              "      <th>Winning_Number_3</th>\n",
              "      <th>Winning_Number_4</th>\n",
              "      <th>Winning_Number_5</th>\n",
              "    </tr>\n",
              "  </thead>\n",
              "  <tbody>\n",
              "    <tr>\n",
              "      <th>0</th>\n",
              "      <td>2020-12-11</td>\n",
              "      <td>25</td>\n",
              "      <td>4.0</td>\n",
              "      <td>19</td>\n",
              "      <td>31</td>\n",
              "      <td>37</td>\n",
              "      <td>55</td>\n",
              "      <td>67</td>\n",
              "    </tr>\n",
              "    <tr>\n",
              "      <th>1</th>\n",
              "      <td>2020-12-08</td>\n",
              "      <td>25</td>\n",
              "      <td>3.0</td>\n",
              "      <td>15</td>\n",
              "      <td>19</td>\n",
              "      <td>33</td>\n",
              "      <td>39</td>\n",
              "      <td>68</td>\n",
              "    </tr>\n",
              "    <tr>\n",
              "      <th>2</th>\n",
              "      <td>2020-12-04</td>\n",
              "      <td>8</td>\n",
              "      <td>3.0</td>\n",
              "      <td>3</td>\n",
              "      <td>19</td>\n",
              "      <td>24</td>\n",
              "      <td>44</td>\n",
              "      <td>50</td>\n",
              "    </tr>\n",
              "    <tr>\n",
              "      <th>3</th>\n",
              "      <td>2020-12-01</td>\n",
              "      <td>14</td>\n",
              "      <td>2.0</td>\n",
              "      <td>7</td>\n",
              "      <td>33</td>\n",
              "      <td>53</td>\n",
              "      <td>61</td>\n",
              "      <td>65</td>\n",
              "    </tr>\n",
              "    <tr>\n",
              "      <th>4</th>\n",
              "      <td>2020-11-27</td>\n",
              "      <td>10</td>\n",
              "      <td>2.0</td>\n",
              "      <td>4</td>\n",
              "      <td>10</td>\n",
              "      <td>27</td>\n",
              "      <td>35</td>\n",
              "      <td>58</td>\n",
              "    </tr>\n",
              "    <tr>\n",
              "      <th>...</th>\n",
              "      <td>...</td>\n",
              "      <td>...</td>\n",
              "      <td>...</td>\n",
              "      <td>...</td>\n",
              "      <td>...</td>\n",
              "      <td>...</td>\n",
              "      <td>...</td>\n",
              "      <td>...</td>\n",
              "    </tr>\n",
              "    <tr>\n",
              "      <th>1931</th>\n",
              "      <td>2002-05-31</td>\n",
              "      <td>47</td>\n",
              "      <td>NaN</td>\n",
              "      <td>12</td>\n",
              "      <td>28</td>\n",
              "      <td>45</td>\n",
              "      <td>46</td>\n",
              "      <td>52</td>\n",
              "    </tr>\n",
              "    <tr>\n",
              "      <th>1932</th>\n",
              "      <td>2002-05-28</td>\n",
              "      <td>24</td>\n",
              "      <td>NaN</td>\n",
              "      <td>6</td>\n",
              "      <td>21</td>\n",
              "      <td>22</td>\n",
              "      <td>29</td>\n",
              "      <td>32</td>\n",
              "    </tr>\n",
              "    <tr>\n",
              "      <th>1933</th>\n",
              "      <td>2002-05-24</td>\n",
              "      <td>36</td>\n",
              "      <td>NaN</td>\n",
              "      <td>2</td>\n",
              "      <td>4</td>\n",
              "      <td>32</td>\n",
              "      <td>44</td>\n",
              "      <td>52</td>\n",
              "    </tr>\n",
              "    <tr>\n",
              "      <th>1934</th>\n",
              "      <td>2002-05-21</td>\n",
              "      <td>9</td>\n",
              "      <td>NaN</td>\n",
              "      <td>4</td>\n",
              "      <td>28</td>\n",
              "      <td>39</td>\n",
              "      <td>41</td>\n",
              "      <td>44</td>\n",
              "    </tr>\n",
              "    <tr>\n",
              "      <th>1935</th>\n",
              "      <td>2002-05-17</td>\n",
              "      <td>30</td>\n",
              "      <td>NaN</td>\n",
              "      <td>15</td>\n",
              "      <td>18</td>\n",
              "      <td>25</td>\n",
              "      <td>33</td>\n",
              "      <td>47</td>\n",
              "    </tr>\n",
              "  </tbody>\n",
              "</table>\n",
              "<p>1936 rows × 8 columns</p>\n",
              "</div>"
            ],
            "text/plain": [
              "      Draw_Date  Mega_Ball  ...  Winning_Number_4  Winning_Number_5\n",
              "0    2020-12-11         25  ...                55                67\n",
              "1    2020-12-08         25  ...                39                68\n",
              "2    2020-12-04          8  ...                44                50\n",
              "3    2020-12-01         14  ...                61                65\n",
              "4    2020-11-27         10  ...                35                58\n",
              "...         ...        ...  ...               ...               ...\n",
              "1931 2002-05-31         47  ...                46                52\n",
              "1932 2002-05-28         24  ...                29                32\n",
              "1933 2002-05-24         36  ...                44                52\n",
              "1934 2002-05-21          9  ...                41                44\n",
              "1935 2002-05-17         30  ...                33                47\n",
              "\n",
              "[1936 rows x 8 columns]"
            ]
          },
          "metadata": {
            "tags": []
          },
          "execution_count": 17
        }
      ]
    },
    {
      "cell_type": "code",
      "metadata": {
        "id": "vJ5BrSrMMwOY"
      },
      "source": [
        "df[\"Multiplier\"].fillna(1.0, inplace = True) \r\n"
      ],
      "execution_count": null,
      "outputs": []
    },
    {
      "cell_type": "code",
      "metadata": {
        "id": "0CG5L3p3Li4L"
      },
      "source": [
        "import seaborn as sns"
      ],
      "execution_count": null,
      "outputs": []
    },
    {
      "cell_type": "code",
      "metadata": {
        "id": "xPg9kd4XLxsz"
      },
      "source": [
        "dfwithoutdate = df[['Mega_Ball','Multiplier',\t'Winning_Number_1',\t'Winning_Number_2',\t'Winning_Number_3',\t'Winning_Number_4',\t'Winning_Number_5']].copy()"
      ],
      "execution_count": null,
      "outputs": []
    },
    {
      "cell_type": "code",
      "metadata": {
        "colab": {
          "base_uri": "https://localhost:8080/"
        },
        "id": "cniQFvOGMHHc",
        "outputId": "a8f0aba9-5f54-46ea-d258-b5f2235a9f67"
      },
      "source": [
        "dfwithoutdate.info()"
      ],
      "execution_count": null,
      "outputs": [
        {
          "output_type": "stream",
          "text": [
            "<class 'pandas.core.frame.DataFrame'>\n",
            "RangeIndex: 1936 entries, 0 to 1935\n",
            "Data columns (total 7 columns):\n",
            " #   Column            Non-Null Count  Dtype  \n",
            "---  ------            --------------  -----  \n",
            " 0   Mega_Ball         1936 non-null   int64  \n",
            " 1   Multiplier        1936 non-null   float64\n",
            " 2   Winning_Number_1  1936 non-null   int64  \n",
            " 3   Winning_Number_2  1936 non-null   int64  \n",
            " 4   Winning_Number_3  1936 non-null   int64  \n",
            " 5   Winning_Number_4  1936 non-null   int64  \n",
            " 6   Winning_Number_5  1936 non-null   int64  \n",
            "dtypes: float64(1), int64(6)\n",
            "memory usage: 106.0 KB\n"
          ],
          "name": "stdout"
        }
      ]
    },
    {
      "cell_type": "code",
      "metadata": {
        "colab": {
          "base_uri": "https://localhost:8080/",
          "height": 373
        },
        "id": "ePaLRocrMIVH",
        "outputId": "2b99c2d4-160a-4958-fe06-d468ae22bd73"
      },
      "source": [
        "sns.heatmap(dfwithoutdate.corr(),annot=True,vmin=-1,vmax=1,center=0)"
      ],
      "execution_count": null,
      "outputs": [
        {
          "output_type": "execute_result",
          "data": {
            "text/plain": [
              "<matplotlib.axes._subplots.AxesSubplot at 0x7f336bbc3b70>"
            ]
          },
          "metadata": {
            "tags": []
          },
          "execution_count": 22
        },
        {
          "output_type": "display_data",
          "data": {
            "image/png": "[encoded data removed]",
            "text/plain": [
              "<Figure size 432x288 with 2 Axes>"
            ]
          },
          "metadata": {
            "tags": [],
            "needs_background": "light"
          }
        }
      ]
    },
    {
      "cell_type": "markdown",
      "metadata": {
        "id": "bbSEoWddPRDc"
      },
      "source": [
        "*This correlation heatmap shows some very interesting characteristics, not a lot about how numbers affect chances of winning but more so about how people generally pick lottery numbers.*\r\n",
        "\r\n",
        "It is evident that while choosing numbers, people tend to pick successive numbers that are relatively closer to each other, and so that's why correlation between Winning_Number1, Winning_Number2 and Winning_Number2, Winning_Number3 and so on are high positive correlations.\r\n",
        "\r\n",
        "Another slightly interesting observation that one can infer is that because multiplier is generally chosen at last, Winning_Number5 has a relatively higher influence in what multiplier will be chosen although this is not too significant a correlation.\r\n"
      ]
    },
    {
      "cell_type": "markdown",
      "metadata": {
        "id": "0fPCPVbD7lfE"
      },
      "source": [
        "In the bar graphs below, x axis denotes which number won and y axis denotes  the Number of times that number won "
      ]
    },
    {
      "cell_type": "code",
      "metadata": {
        "colab": {
          "base_uri": "https://localhost:8080/",
          "height": 817
        },
        "id": "Kwfe-eqH8XbM",
        "outputId": "2ebbb2aa-23ce-4a9d-e192-54051c9b3f2b"
      },
      "source": [
        "dfwithoutdate['Mega_Ball'].value_counts().sort_index().plot.bar(figsize = (20,11),rot=0)"
      ],
      "execution_count": 102,
      "outputs": [
        {
          "output_type": "execute_result",
          "data": {
            "text/plain": [
              "<matplotlib.axes._subplots.AxesSubplot at 0x7f330e1255f8>"
            ]
          },
          "metadata": {
            "tags": []
          },
          "execution_count": 102
        },
        {
          "output_type": "display_data",
          "data": {
            "image/png": "[encoded data removed]",
            "text/plain": [
              "<Figure size 1440x792 with 1 Axes>"
            ]
          },
          "metadata": {
            "tags": [],
            "needs_background": "light"
          }
        }
      ]
    },
    {
      "cell_type": "code",
      "metadata": {
        "colab": {
          "base_uri": "https://localhost:8080/",
          "height": 817
        },
        "id": "QVa-LvFAAKXi",
        "outputId": "0056db99-9647-4f0b-c449-db2eae773f21"
      },
      "source": [
        "dfwithoutdate['Winning_Number_1'].value_counts().sort_index().plot.bar(x='What number won',y='Number of times won', figsize = (20,11),rot=0)"
      ],
      "execution_count": 100,
      "outputs": [
        {
          "output_type": "execute_result",
          "data": {
            "text/plain": [
              "<matplotlib.axes._subplots.AxesSubplot at 0x7f330e3b1278>"
            ]
          },
          "metadata": {
            "tags": []
          },
          "execution_count": 100
        },
        {
          "output_type": "display_data",
          "data": {
            "image/png": "[encoded data removed]",
            "text/plain": [
              "<Figure size 1440x792 with 1 Axes>"
            ]
          },
          "metadata": {
            "tags": [],
            "needs_background": "light"
          }
        }
      ]
    },
    {
      "cell_type": "code",
      "metadata": {
        "colab": {
          "base_uri": "https://localhost:8080/",
          "height": 817
        },
        "id": "prVr32fLAKi8",
        "outputId": "a83194f3-da18-47e1-9e70-4b2b0eeade77"
      },
      "source": [
        "dfwithoutdate['Winning_Number_2'].value_counts().sort_index().plot.bar(x='What number won',y='Number of times won', figsize = (20,11),rot=0)"
      ],
      "execution_count": 99,
      "outputs": [
        {
          "output_type": "execute_result",
          "data": {
            "text/plain": [
              "<matplotlib.axes._subplots.AxesSubplot at 0x7f330e63a940>"
            ]
          },
          "metadata": {
            "tags": []
          },
          "execution_count": 99
        },
        {
          "output_type": "display_data",
          "data": {
            "image/png": "[encoded data removed]",
            "text/plain": [
              "<Figure size 1440x792 with 1 Axes>"
            ]
          },
          "metadata": {
            "tags": [],
            "needs_background": "light"
          }
        }
      ]
    },
    {
      "cell_type": "code",
      "metadata": {
        "colab": {
          "base_uri": "https://localhost:8080/",
          "height": 817
        },
        "id": "PXjZsYg5AKq5",
        "outputId": "7a63ec62-6247-4f8a-cb65-42750efcd033"
      },
      "source": [
        "dfwithoutdate['Winning_Number_3'].value_counts().sort_index().plot.bar(x='What number won',y='Number of times won', figsize = (20,11),rot=0)"
      ],
      "execution_count": 98,
      "outputs": [
        {
          "output_type": "execute_result",
          "data": {
            "text/plain": [
              "<matplotlib.axes._subplots.AxesSubplot at 0x7f330e74b668>"
            ]
          },
          "metadata": {
            "tags": []
          },
          "execution_count": 98
        },
        {
          "output_type": "display_data",
          "data": {
            "image/png": "[encoded data removed]",
            "text/plain": [
              "<Figure size 1440x792 with 1 Axes>"
            ]
          },
          "metadata": {
            "tags": [],
            "needs_background": "light"
          }
        }
      ]
    },
    {
      "cell_type": "code",
      "metadata": {
        "colab": {
          "base_uri": "https://localhost:8080/",
          "height": 817
        },
        "id": "Z6d33XTLAKxE",
        "outputId": "d5dac9cb-6070-438d-9b91-c0083557f97b"
      },
      "source": [
        "dfwithoutdate['Winning_Number_4'].value_counts().sort_index().plot.bar(x='What number won',y='Number of times won', figsize = (20,11),rot=0)"
      ],
      "execution_count": 97,
      "outputs": [
        {
          "output_type": "execute_result",
          "data": {
            "text/plain": [
              "<matplotlib.axes._subplots.AxesSubplot at 0x7f330eb4b1d0>"
            ]
          },
          "metadata": {
            "tags": []
          },
          "execution_count": 97
        },
        {
          "output_type": "display_data",
          "data": {
            "image/png": "[encoded data removed]",
            "text/plain": [
              "<Figure size 1440x792 with 1 Axes>"
            ]
          },
          "metadata": {
            "tags": [],
            "needs_background": "light"
          }
        }
      ]
    },
    {
      "cell_type": "code",
      "metadata": {
        "colab": {
          "base_uri": "https://localhost:8080/",
          "height": 817
        },
        "id": "680rRNN6AZv1",
        "outputId": "213c8728-de56-4529-f0ce-acb125aacccb"
      },
      "source": [
        "dfwithoutdate['Winning_Number_5'].value_counts().sort_index().plot.bar(x='What number won',y='Number of times won', figsize = (20,11),rot=0)"
      ],
      "execution_count": 96,
      "outputs": [
        {
          "output_type": "execute_result",
          "data": {
            "text/plain": [
              "<matplotlib.axes._subplots.AxesSubplot at 0x7f330e9b3ef0>"
            ]
          },
          "metadata": {
            "tags": []
          },
          "execution_count": 96
        },
        {
          "output_type": "display_data",
          "data": {
            "image/png": "[encoded data removed]",
            "text/plain": [
              "<Figure size 1440x792 with 1 Axes>"
            ]
          },
          "metadata": {
            "tags": [],
            "needs_background": "light"
          }
        }
      ]
    },
    {
      "cell_type": "code",
      "metadata": {
        "colab": {
          "base_uri": "https://localhost:8080/",
          "height": 745
        },
        "id": "4Rh3NswRA7RS",
        "outputId": "d12d90b3-5c0e-4f3b-ad4f-606a39ad3531"
      },
      "source": [
        "dfwithoutdate['Multiplier'].value_counts().sort_index().plot.bar(x='What number won',y='Number of times won', figsize = (10,10),rot=0)"
      ],
      "execution_count": 95,
      "outputs": [
        {
          "output_type": "execute_result",
          "data": {
            "text/plain": [
              "<matplotlib.axes._subplots.AxesSubplot at 0x7f331023a748>"
            ]
          },
          "metadata": {
            "tags": []
          },
          "execution_count": 95
        },
        {
          "output_type": "display_data",
          "data": {
            "image/png": "[encoded data removed]",
            "text/plain": [
              "<Figure size 720x720 with 1 Axes>"
            ]
          },
          "metadata": {
            "tags": [],
            "needs_background": "light"
          }
        }
      ]
    },
    {
      "cell_type": "markdown",
      "metadata": {
        "id": "o8tO1qmBCoGy"
      },
      "source": [
        "Multiplier was introduced in January 2011 so for all the lotteries before that multiplier value is by default 1"
      ]
    },
    {
      "cell_type": "code",
      "metadata": {
        "id": "uTVDQQn4TM5Z"
      },
      "source": [
        "import matplotlib.pyplot as plt"
      ],
      "execution_count": 105,
      "outputs": []
    },
    {
      "cell_type": "code",
      "metadata": {
        "id": "CkObLc9ZRgEQ"
      },
      "source": [
        "column_indices = {name: i for i, name in enumerate(dfwithoutdate.columns)}\r\n",
        "\r\n",
        "n = len(dfwithoutdate)\r\n",
        "train_df = dfwithoutdate[0:int(n*0.7)]\r\n",
        "val_df = dfwithoutdate[int(n*0.7):int(n*0.9)]\r\n",
        "test_df = dfwithoutdate[int(n*0.9):]\r\n",
        "\r\n",
        "num_features = dfwithoutdate.shape[1]"
      ],
      "execution_count": 109,
      "outputs": []
    },
    {
      "cell_type": "code",
      "metadata": {
        "id": "hj5-up_nSUQr"
      },
      "source": [
        "train_mean = train_df.mean()\r\n",
        "train_std = train_df.std()"
      ],
      "execution_count": 110,
      "outputs": []
    },
    {
      "cell_type": "code",
      "metadata": {
        "colab": {
          "base_uri": "https://localhost:8080/",
          "height": 873
        },
        "id": "gRqqcIW4Su77",
        "outputId": "a64fdfe6-9a43-474c-a6d6-cff9132e9acf"
      },
      "source": [
        "plt.figure(figsize=(12, 12))\r\n",
        "ax = sns.violinplot(data=dfwithoutdate)\r\n",
        "_ = ax.set_xticklabels(dfwithoutdate.keys(), rotation=90)"
      ],
      "execution_count": 113,
      "outputs": [
        {
          "output_type": "display_data",
          "data": {
            "image/png": "[encoded data removed]",
            "text/plain": [
              "<Figure size 864x864 with 1 Axes>"
            ]
          },
          "metadata": {
            "tags": [],
            "needs_background": "light"
          }
        }
      ]
    },
    {
      "cell_type": "code",
      "metadata": {
        "id": "a35_93pnC9Qa"
      },
      "source": [
        ""
      ],
      "execution_count": null,
      "outputs": []
    }
  ]
}